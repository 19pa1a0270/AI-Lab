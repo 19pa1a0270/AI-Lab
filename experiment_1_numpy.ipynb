{
  "nbformat": 4,
  "nbformat_minor": 0,
  "metadata": {
    "colab": {
      "name": "experiment 1 numpy.ipynb",
      "provenance": [],
      "authorship_tag": "ABX9TyOlaTzGJIvWKd0jYZW2dPbx",
      "include_colab_link": true
    },
    "kernelspec": {
      "name": "python3",
      "display_name": "Python 3"
    }
  },
  "cells": [
    {
      "cell_type": "markdown",
      "metadata": {
        "id": "view-in-github",
        "colab_type": "text"
      },
      "source": [
        "<a href=\"https://colab.research.google.com/github/osurielizabethrani/AI-Lab/blob/master/experiment_1_numpy.ipynb\" target=\"_parent\"><img src=\"https://colab.research.google.com/assets/colab-badge.svg\" alt=\"Open In Colab\"/></a>"
      ]
    },
    {
      "cell_type": "markdown",
      "metadata": {
        "id": "XcUdW2EvGyiZ",
        "colab_type": "text"
      },
      "source": [
        "###Experiment-1:NumPy"
      ]
    },
    {
      "cell_type": "markdown",
      "metadata": {
        "id": "vzdccDdkG5hm",
        "colab_type": "text"
      },
      "source": [
        "###(i) Different ways to create NumPy arrays."
      ]
    },
    {
      "cell_type": "markdown",
      "metadata": {
        "id": "MZ6FF-ZAv3f-",
        "colab_type": "text"
      },
      "source": [
        "a)Create a numpy array using lists."
      ]
    },
    {
      "cell_type": "code",
      "metadata": {
        "id": "l1wVMhmzHKOJ",
        "colab_type": "code",
        "colab": {
          "base_uri": "https://localhost:8080/",
          "height": 34
        },
        "outputId": "7ed8a423-d3f6-4647-ee91-da404eb0a744"
      },
      "source": [
        "import numpy as np\n",
        "a = np.array([1,2,3])\n",
        "print(a)"
      ],
      "execution_count": 1,
      "outputs": [
        {
          "output_type": "stream",
          "text": [
            "[1 2 3]\n"
          ],
          "name": "stdout"
        }
      ]
    },
    {
      "cell_type": "code",
      "metadata": {
        "id": "u8tykjXjHe4S",
        "colab_type": "code",
        "colab": {
          "base_uri": "https://localhost:8080/",
          "height": 51
        },
        "outputId": "c468534b-ebb0-4735-8a8d-7460b8b0034f"
      },
      "source": [
        "a = np.array([[1,2],[3,4]])\n",
        "print(a)"
      ],
      "execution_count": 2,
      "outputs": [
        {
          "output_type": "stream",
          "text": [
            "[[1 2]\n",
            " [3 4]]\n"
          ],
          "name": "stdout"
        }
      ]
    },
    {
      "cell_type": "markdown",
      "metadata": {
        "id": "FGGNsVkXHydy",
        "colab_type": "text"
      },
      "source": [
        "b)Create a numpy array using arange."
      ]
    },
    {
      "cell_type": "code",
      "metadata": {
        "id": "B_Ei_dWkH5tS",
        "colab_type": "code",
        "colab": {
          "base_uri": "https://localhost:8080/",
          "height": 34
        },
        "outputId": "1170267a-cce9-4d9b-b26e-c2f1d4347216"
      },
      "source": [
        "np.arange(10,30,5)"
      ],
      "execution_count": 3,
      "outputs": [
        {
          "output_type": "execute_result",
          "data": {
            "text/plain": [
              "array([10, 15, 20, 25])"
            ]
          },
          "metadata": {
            "tags": []
          },
          "execution_count": 3
        }
      ]
    },
    {
      "cell_type": "code",
      "metadata": {
        "id": "b3l1Ikg0IFaz",
        "colab_type": "code",
        "colab": {
          "base_uri": "https://localhost:8080/",
          "height": 71
        },
        "outputId": "1a1314a9-ad3f-4c34-9138-c4236207b2b5"
      },
      "source": [
        "np.arange(20)"
      ],
      "execution_count": 4,
      "outputs": [
        {
          "output_type": "execute_result",
          "data": {
            "text/plain": [
              "array([ 0,  1,  2,  3,  4,  5,  6,  7,  8,  9, 10, 11, 12, 13, 14, 15, 16,\n",
              "       17, 18, 19])"
            ]
          },
          "metadata": {
            "tags": []
          },
          "execution_count": 4
        }
      ]
    },
    {
      "cell_type": "markdown",
      "metadata": {
        "id": "6ewR8iFyLgGu",
        "colab_type": "text"
      },
      "source": [
        "###(ii)Add,remove,modify elements in an array."
      ]
    },
    {
      "cell_type": "markdown",
      "metadata": {
        "id": "VHLKx-uPwlxI",
        "colab_type": "text"
      },
      "source": [
        "a)Add"
      ]
    },
    {
      "cell_type": "code",
      "metadata": {
        "id": "DD9Z-1C1sYPh",
        "colab_type": "code",
        "colab": {
          "base_uri": "https://localhost:8080/",
          "height": 54
        },
        "outputId": "40770534-45dd-4f4d-c8a6-c61ef0af8801"
      },
      "source": [
        "b = np.append(a,[56,57,58])\n",
        "b"
      ],
      "execution_count": 5,
      "outputs": [
        {
          "output_type": "execute_result",
          "data": {
            "text/plain": [
              "array([ 1,  2,  3,  4, 56, 57, 58])"
            ]
          },
          "metadata": {
            "tags": []
          },
          "execution_count": 5
        }
      ]
    },
    {
      "cell_type": "markdown",
      "metadata": {
        "id": "-3yhWeRdw0pg",
        "colab_type": "text"
      },
      "source": [
        "b)Remove"
      ]
    },
    {
      "cell_type": "code",
      "metadata": {
        "id": "tHmEmDFYs6PY",
        "colab_type": "code",
        "colab": {
          "base_uri": "https://localhost:8080/",
          "height": 34
        },
        "outputId": "545fa8dc-0cf4-467a-fc57-d3dabf1f4859"
      },
      "source": [
        "import numpy as np\n",
        "p = np.array([9,1,3,5,6])\n",
        "p = np.delete(p,4)\n",
        "print(p)"
      ],
      "execution_count": 6,
      "outputs": [
        {
          "output_type": "stream",
          "text": [
            "[9 1 3 5]\n"
          ],
          "name": "stdout"
        }
      ]
    },
    {
      "cell_type": "markdown",
      "metadata": {
        "id": "iHOQ0kn_w5UU",
        "colab_type": "text"
      },
      "source": [
        " c)Modifying"
      ]
    },
    {
      "cell_type": "code",
      "metadata": {
        "id": "OiwnyMjkuvRi",
        "colab_type": "code",
        "colab": {
          "base_uri": "https://localhost:8080/",
          "height": 34
        },
        "outputId": "835d94cc-42de-409c-dcb8-026b4d75d1fb"
      },
      "source": [
        "a = np.array([1,2,3,4,5])\n",
        "a[2] = 0\n",
        "print(a)"
      ],
      "execution_count": 7,
      "outputs": [
        {
          "output_type": "stream",
          "text": [
            "[1 2 0 4 5]\n"
          ],
          "name": "stdout"
        }
      ]
    },
    {
      "cell_type": "markdown",
      "metadata": {
        "id": "kIrOBKyAuCAO",
        "colab_type": "text"
      },
      "source": [
        "###(iii)Arithmetic operations on NumPy arrays."
      ]
    },
    {
      "cell_type": "code",
      "metadata": {
        "id": "Af2b3VPYuvC6",
        "colab_type": "code",
        "colab": {
          "base_uri": "https://localhost:8080/",
          "height": 51
        },
        "outputId": "3034e23d-36ba-4d4e-d1d2-ee7a3956efd1"
      },
      "source": [
        " \n",
        "a = np.array( [20,30,40,50] )\n",
        "b = np.arange( 4 )\n",
        "print(a)\n",
        "print(b)"
      ],
      "execution_count": 8,
      "outputs": [
        {
          "output_type": "stream",
          "text": [
            "[20 30 40 50]\n",
            "[0 1 2 3]\n"
          ],
          "name": "stdout"
        }
      ]
    },
    {
      "cell_type": "code",
      "metadata": {
        "id": "dNp5bgBGxnc0",
        "colab_type": "code",
        "colab": {
          "base_uri": "https://localhost:8080/",
          "height": 34
        },
        "outputId": "d52d30f5-c414-400e-9520-a7201e0c984b"
      },
      "source": [
        " \n",
        "p = a+b\n",
        "print(p)"
      ],
      "execution_count": 9,
      "outputs": [
        {
          "output_type": "stream",
          "text": [
            "[20 31 42 53]\n"
          ],
          "name": "stdout"
        }
      ]
    },
    {
      "cell_type": "code",
      "metadata": {
        "id": "p5bEgf8wwBLz",
        "colab_type": "code",
        "colab": {
          "base_uri": "https://localhost:8080/",
          "height": 34
        },
        "outputId": "b430fbc2-f7b6-4f40-f7c9-cce8f7cd24de"
      },
      "source": [
        "c = a-b\n",
        "print(c)"
      ],
      "execution_count": 10,
      "outputs": [
        {
          "output_type": "stream",
          "text": [
            "[20 29 38 47]\n"
          ],
          "name": "stdout"
        }
      ]
    },
    {
      "cell_type": "code",
      "metadata": {
        "id": "hXU2nHyQyCsi",
        "colab_type": "code",
        "colab": {
          "base_uri": "https://localhost:8080/",
          "height": 34
        },
        "outputId": "e1ab28c4-61aa-416f-f7df-afa83474f056"
      },
      "source": [
        "print(a*3)"
      ],
      "execution_count": 11,
      "outputs": [
        {
          "output_type": "stream",
          "text": [
            "[ 60  90 120 150]\n"
          ],
          "name": "stdout"
        }
      ]
    },
    {
      "cell_type": "code",
      "metadata": {
        "id": "CYkV83RewIJ_",
        "colab_type": "code",
        "colab": {
          "base_uri": "https://localhost:8080/",
          "height": 34
        },
        "outputId": "f5bce6e9-27ec-4d0c-bc5d-e124d372410e"
      },
      "source": [
        "print(b**2)"
      ],
      "execution_count": 12,
      "outputs": [
        {
          "output_type": "stream",
          "text": [
            "[0 1 4 9]\n"
          ],
          "name": "stdout"
        }
      ]
    },
    {
      "cell_type": "code",
      "metadata": {
        "id": "2V1CFdX8yWkt",
        "colab_type": "code",
        "colab": {
          "base_uri": "https://localhost:8080/",
          "height": 54
        },
        "outputId": "43a8e43b-e46c-4e6b-c0fe-ad8091428d2a"
      },
      "source": [
        "print(b/a)"
      ],
      "execution_count": 13,
      "outputs": [
        {
          "output_type": "stream",
          "text": [
            "[0.         0.03333333 0.05       0.06      ]\n"
          ],
          "name": "stdout"
        }
      ]
    },
    {
      "cell_type": "code",
      "metadata": {
        "id": "wSQ6mXgqwMQS",
        "colab_type": "code",
        "colab": {
          "base_uri": "https://localhost:8080/",
          "height": 54
        },
        "outputId": "f0e6439f-239b-45ba-b397-b6172037ab4c"
      },
      "source": [
        "print(10*np.sin(a))"
      ],
      "execution_count": 14,
      "outputs": [
        {
          "output_type": "stream",
          "text": [
            "[ 9.12945251 -9.88031624  7.4511316  -2.62374854]\n"
          ],
          "name": "stdout"
        }
      ]
    },
    {
      "cell_type": "code",
      "metadata": {
        "id": "LUGEVEa-wSvh",
        "colab_type": "code",
        "colab": {
          "base_uri": "https://localhost:8080/",
          "height": 34
        },
        "outputId": "47ab66d8-09b5-41ee-9a41-907c8ff061a4"
      },
      "source": [
        "print(a<35)"
      ],
      "execution_count": 15,
      "outputs": [
        {
          "output_type": "stream",
          "text": [
            "[ True  True False False]\n"
          ],
          "name": "stdout"
        }
      ]
    },
    {
      "cell_type": "markdown",
      "metadata": {
        "id": "KehSxxF3yGAk",
        "colab_type": "text"
      },
      "source": [
        "###(iv)Slicing and iterating of NumPy arrays."
      ]
    },
    {
      "cell_type": "markdown",
      "metadata": {
        "id": "NJ-DIahc5zss",
        "colab_type": "text"
      },
      "source": [
        "a)Slicing"
      ]
    },
    {
      "cell_type": "code",
      "metadata": {
        "id": "UQ9qXf0kyN_e",
        "colab_type": "code",
        "colab": {
          "base_uri": "https://localhost:8080/",
          "height": 54
        },
        "outputId": "333d5aa5-bf3f-44f0-c9cc-f7b49edecfba"
      },
      "source": [
        "a = np.arange(10)**3\n",
        "print(a)"
      ],
      "execution_count": 16,
      "outputs": [
        {
          "output_type": "stream",
          "text": [
            "[  0   1   8  27  64 125 216 343 512 729]\n"
          ],
          "name": "stdout"
        }
      ]
    },
    {
      "cell_type": "code",
      "metadata": {
        "id": "U-zMLuAoyirx",
        "colab_type": "code",
        "colab": {
          "base_uri": "https://localhost:8080/",
          "height": 34
        },
        "outputId": "f1431eb7-57fa-4d73-9554-0dac11474e06"
      },
      "source": [
        "print(a[2])"
      ],
      "execution_count": 17,
      "outputs": [
        {
          "output_type": "stream",
          "text": [
            "8\n"
          ],
          "name": "stdout"
        }
      ]
    },
    {
      "cell_type": "code",
      "metadata": {
        "id": "LUhQAK4ZynIC",
        "colab_type": "code",
        "colab": {
          "base_uri": "https://localhost:8080/",
          "height": 34
        },
        "outputId": "5029d047-aa55-47de-f4f0-4027af9bdd35"
      },
      "source": [
        "print(a[2:4])"
      ],
      "execution_count": 18,
      "outputs": [
        {
          "output_type": "stream",
          "text": [
            "[ 8 27]\n"
          ],
          "name": "stdout"
        }
      ]
    },
    {
      "cell_type": "code",
      "metadata": {
        "id": "ea-q-_ulysiz",
        "colab_type": "code",
        "colab": {
          "base_uri": "https://localhost:8080/",
          "height": 34
        },
        "outputId": "add3e34c-77c3-4dc2-9fca-6bc7da170de3"
      },
      "source": [
        "print(a[2:3])"
      ],
      "execution_count": 19,
      "outputs": [
        {
          "output_type": "stream",
          "text": [
            "[8]\n"
          ],
          "name": "stdout"
        }
      ]
    },
    {
      "cell_type": "code",
      "metadata": {
        "id": "_gk3PfUpy1Jd",
        "colab_type": "code",
        "colab": {
          "base_uri": "https://localhost:8080/",
          "height": 85
        },
        "outputId": "80997fd1-bb4f-4512-eb9f-69d6ffb7e6b8"
      },
      "source": [
        "a = np.arange(12).reshape(4,3)**2\n",
        "print(a)"
      ],
      "execution_count": 20,
      "outputs": [
        {
          "output_type": "stream",
          "text": [
            "[[  0   1   4]\n",
            " [  9  16  25]\n",
            " [ 36  49  64]\n",
            " [ 81 100 121]]\n"
          ],
          "name": "stdout"
        }
      ]
    },
    {
      "cell_type": "code",
      "metadata": {
        "id": "NKnmX-WvzSA6",
        "colab_type": "code",
        "colab": {
          "base_uri": "https://localhost:8080/",
          "height": 51
        },
        "outputId": "8d8ac8a7-ecfa-431a-c86a-0f3c767b9dfd"
      },
      "source": [
        "print(a[1:3])"
      ],
      "execution_count": 21,
      "outputs": [
        {
          "output_type": "stream",
          "text": [
            "[[ 9 16 25]\n",
            " [36 49 64]]\n"
          ],
          "name": "stdout"
        }
      ]
    },
    {
      "cell_type": "code",
      "metadata": {
        "id": "uvUxeZJJzW9A",
        "colab_type": "code",
        "colab": {
          "base_uri": "https://localhost:8080/",
          "height": 51
        },
        "outputId": "bd97c0d8-e830-4771-b981-5f2ced79ab5a"
      },
      "source": [
        "print(a[1:3,1:2])"
      ],
      "execution_count": 22,
      "outputs": [
        {
          "output_type": "stream",
          "text": [
            "[[16]\n",
            " [49]]\n"
          ],
          "name": "stdout"
        }
      ]
    },
    {
      "cell_type": "code",
      "metadata": {
        "id": "t2P1IrfXzieF",
        "colab_type": "code",
        "colab": {
          "base_uri": "https://localhost:8080/",
          "height": 51
        },
        "outputId": "c2eacef6-9e5e-4d6c-a19f-a132cbb9b57a"
      },
      "source": [
        "print(a[:2],)"
      ],
      "execution_count": 23,
      "outputs": [
        {
          "output_type": "stream",
          "text": [
            "[[ 0  1  4]\n",
            " [ 9 16 25]]\n"
          ],
          "name": "stdout"
        }
      ]
    },
    {
      "cell_type": "code",
      "metadata": {
        "id": "m4yvnQbwzxEO",
        "colab_type": "code",
        "colab": {
          "base_uri": "https://localhost:8080/",
          "height": 68
        },
        "outputId": "c558dff1-ad02-4bf1-ba97-7f18c07b94fc"
      },
      "source": [
        "print(a[:3,:2])"
      ],
      "execution_count": 24,
      "outputs": [
        {
          "output_type": "stream",
          "text": [
            "[[ 0  1]\n",
            " [ 9 16]\n",
            " [36 49]]\n"
          ],
          "name": "stdout"
        }
      ]
    },
    {
      "cell_type": "code",
      "metadata": {
        "id": "LLDMwg09z2NG",
        "colab_type": "code",
        "colab": {
          "base_uri": "https://localhost:8080/",
          "height": 34
        },
        "outputId": "5cb7d9e1-4a3a-459f-e22b-6a3b4990e1e4"
      },
      "source": [
        "print(a[:,2])"
      ],
      "execution_count": 25,
      "outputs": [
        {
          "output_type": "stream",
          "text": [
            "[  4  25  64 121]\n"
          ],
          "name": "stdout"
        }
      ]
    },
    {
      "cell_type": "markdown",
      "metadata": {
        "id": "zQbG2iPZ1--O",
        "colab_type": "text"
      },
      "source": [
        "Slicing using negative index."
      ]
    },
    {
      "cell_type": "code",
      "metadata": {
        "id": "uhBYIa4U1tDQ",
        "colab_type": "code",
        "colab": {
          "base_uri": "https://localhost:8080/",
          "height": 105
        },
        "outputId": "f71a5a5d-c5fb-4dc1-950c-219d34a89bc8"
      },
      "source": [
        " \n",
        "a=np.arange(10)**3\n",
        "print(a)\n",
        " \n",
        "print(a[-1])\n",
        "print(a[-2])\n",
        "print(a[-5:-2])"
      ],
      "execution_count": 26,
      "outputs": [
        {
          "output_type": "stream",
          "text": [
            "[  0   1   8  27  64 125 216 343 512 729]\n",
            "729\n",
            "512\n",
            "[125 216 343]\n"
          ],
          "name": "stdout"
        }
      ]
    },
    {
      "cell_type": "code",
      "metadata": {
        "id": "vKuP3ust2TRY",
        "colab_type": "code",
        "colab": {
          "base_uri": "https://localhost:8080/",
          "height": 153
        },
        "outputId": "fd46515c-1d74-4290-a257-bfe928a5c321"
      },
      "source": [
        " \n",
        "a=np.arange(12).reshape(4,3)**2 \n",
        "print(a)\n",
        " \n",
        "print(a[-1,]) \n",
        "print(a[-1,-1])\n",
        "print(a[-3:-1,-2:])"
      ],
      "execution_count": 27,
      "outputs": [
        {
          "output_type": "stream",
          "text": [
            "[[  0   1   4]\n",
            " [  9  16  25]\n",
            " [ 36  49  64]\n",
            " [ 81 100 121]]\n",
            "[ 81 100 121]\n",
            "121\n",
            "[[16 25]\n",
            " [49 64]]\n"
          ],
          "name": "stdout"
        }
      ]
    },
    {
      "cell_type": "markdown",
      "metadata": {
        "id": "1yHxljge5tAV",
        "colab_type": "text"
      },
      "source": [
        "b)Iterating"
      ]
    },
    {
      "cell_type": "code",
      "metadata": {
        "id": "1odpw7Fc5u5Y",
        "colab_type": "code",
        "colab": {
          "base_uri": "https://localhost:8080/",
          "height": 153
        },
        "outputId": "1ed34a8b-1094-4ae7-d5f8-da55a0d5b436"
      },
      "source": [
        " \n",
        "a=np.arange(12).reshape(4,3)**2 # Create an array \"a\" with square of numbers from 0 to 11.\n",
        "print(a)\n",
        " \n",
        "for i in a:\n",
        "    print(i)"
      ],
      "execution_count": 28,
      "outputs": [
        {
          "output_type": "stream",
          "text": [
            "[[  0   1   4]\n",
            " [  9  16  25]\n",
            " [ 36  49  64]\n",
            " [ 81 100 121]]\n",
            "[0 1 4]\n",
            "[ 9 16 25]\n",
            "[36 49 64]\n",
            "[ 81 100 121]\n"
          ],
          "name": "stdout"
        }
      ]
    },
    {
      "cell_type": "code",
      "metadata": {
        "id": "QZV_cttM6J58",
        "colab_type": "code",
        "colab": {
          "base_uri": "https://localhost:8080/",
          "height": 221
        },
        "outputId": "42f95a06-c859-4618-d3f4-97d99e3ce524"
      },
      "source": [
        " \n",
        "for i in a.flat:\n",
        "    print(i)"
      ],
      "execution_count": 29,
      "outputs": [
        {
          "output_type": "stream",
          "text": [
            "0\n",
            "1\n",
            "4\n",
            "9\n",
            "16\n",
            "25\n",
            "36\n",
            "49\n",
            "64\n",
            "81\n",
            "100\n",
            "121\n"
          ],
          "name": "stdout"
        }
      ]
    },
    {
      "cell_type": "markdown",
      "metadata": {
        "id": "9E6TiyK56Noo",
        "colab_type": "text"
      },
      "source": [
        "###(V)Matrix operations on NumPy arrays."
      ]
    },
    {
      "cell_type": "code",
      "metadata": {
        "id": "PKC6kEDX8VaF",
        "colab_type": "code",
        "colab": {
          "base_uri": "https://localhost:8080/",
          "height": 85
        },
        "outputId": "204ac422-14ad-4081-b213-e3a6c3c1a627"
      },
      "source": [
        "a = np.array([[1,2],[3,4]])\n",
        "b = np.array([[5,6],[7,8]])\n",
        "print(a)\n",
        "print(b)"
      ],
      "execution_count": 30,
      "outputs": [
        {
          "output_type": "stream",
          "text": [
            "[[1 2]\n",
            " [3 4]]\n",
            "[[5 6]\n",
            " [7 8]]\n"
          ],
          "name": "stdout"
        }
      ]
    },
    {
      "cell_type": "code",
      "metadata": {
        "id": "6EzAUdgs8tEV",
        "colab_type": "code",
        "colab": {
          "base_uri": "https://localhost:8080/",
          "height": 51
        },
        "outputId": "af069636-5629-4d5d-c1e8-f57d2a14e769"
      },
      "source": [
        "print(a+b)"
      ],
      "execution_count": 31,
      "outputs": [
        {
          "output_type": "stream",
          "text": [
            "[[ 6  8]\n",
            " [10 12]]\n"
          ],
          "name": "stdout"
        }
      ]
    },
    {
      "cell_type": "code",
      "metadata": {
        "id": "iF6DTtgt81Q-",
        "colab_type": "code",
        "colab": {
          "base_uri": "https://localhost:8080/",
          "height": 51
        },
        "outputId": "326105b1-6994-4739-8cf4-b3fce0d9c12f"
      },
      "source": [
        "print(a-b)"
      ],
      "execution_count": 32,
      "outputs": [
        {
          "output_type": "stream",
          "text": [
            "[[-4 -4]\n",
            " [-4 -4]]\n"
          ],
          "name": "stdout"
        }
      ]
    },
    {
      "cell_type": "code",
      "metadata": {
        "id": "hK1gHBI989Sz",
        "colab_type": "code",
        "colab": {
          "base_uri": "https://localhost:8080/",
          "height": 51
        },
        "outputId": "7a4ce3fd-0d57-4e5f-a4ea-2a13172db6d8"
      },
      "source": [
        "print(a/b)"
      ],
      "execution_count": 33,
      "outputs": [
        {
          "output_type": "stream",
          "text": [
            "[[0.2        0.33333333]\n",
            " [0.42857143 0.5       ]]\n"
          ],
          "name": "stdout"
        }
      ]
    },
    {
      "cell_type": "code",
      "metadata": {
        "id": "LxEChtz19Cd4",
        "colab_type": "code",
        "colab": {
          "base_uri": "https://localhost:8080/",
          "height": 51
        },
        "outputId": "6c6f4ac6-d916-42c9-8f6b-82dd0c8af8d0"
      },
      "source": [
        "print(a@b)"
      ],
      "execution_count": 34,
      "outputs": [
        {
          "output_type": "stream",
          "text": [
            "[[19 22]\n",
            " [43 50]]\n"
          ],
          "name": "stdout"
        }
      ]
    }
  ]
}