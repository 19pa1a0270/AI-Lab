{
  "nbformat": 4,
  "nbformat_minor": 0,
  "metadata": {
    "colab": {
      "name": "Experiment 3:Data Visualization.ipynb",
      "provenance": [],
      "authorship_tag": "ABX9TyPeNIMpejk5QSwwWQEIX+m0",
      "include_colab_link": true
    },
    "kernelspec": {
      "name": "python3",
      "display_name": "Python 3"
    }
  },
  "cells": [
    {
      "cell_type": "markdown",
      "metadata": {
        "id": "view-in-github",
        "colab_type": "text"
      },
      "source": [
        "<a href=\"https://colab.research.google.com/github/19pa1a0270/AI-Lab/blob/master/Experiment_3_Data_Visualization.ipynb\" target=\"_parent\"><img src=\"https://colab.research.google.com/assets/colab-badge.svg\" alt=\"Open In Colab\"/></a>"
      ]
    },
    {
      "cell_type": "markdown",
      "metadata": {
        "id": "Fh8tV-3DcDCc"
      },
      "source": [
        "#Experiment-3:Data Visualization"
      ]
    },
    {
      "cell_type": "markdown",
      "metadata": {
        "id": "cu9b4VB0cUzz"
      },
      "source": [
        "##i)Line Graph"
      ]
    },
    {
      "cell_type": "code",
      "metadata": {
        "id": "SvUfqjlMcRDj"
      },
      "source": [
        " import matplotlib.pyplot as plt\n",
        "import numpy as np\n",
        "import pandas as pd\n",
        "import seaborn as sns"
      ],
      "execution_count": 42,
      "outputs": []
    },
    {
      "cell_type": "code",
      "metadata": {
        "id": "ano1LkL1D3YA",
        "outputId": "5d4a298e-cec2-4205-dd38-f78a29bb47bd",
        "colab": {
          "base_uri": "https://localhost:8080/",
          "height": 456
        }
      },
      "source": [
        "df=pd.read_csv(\"students_placement_data.csv\")\n",
        "df"
      ],
      "execution_count": 43,
      "outputs": [
        {
          "output_type": "execute_result",
          "data": {
            "text/html": [
              "<div>\n",
              "<style scoped>\n",
              "    .dataframe tbody tr th:only-of-type {\n",
              "        vertical-align: middle;\n",
              "    }\n",
              "\n",
              "    .dataframe tbody tr th {\n",
              "        vertical-align: top;\n",
              "    }\n",
              "\n",
              "    .dataframe thead th {\n",
              "        text-align: right;\n",
              "    }\n",
              "</style>\n",
              "<table border=\"1\" class=\"dataframe\">\n",
              "  <thead>\n",
              "    <tr style=\"text-align: right;\">\n",
              "      <th></th>\n",
              "      <th>Roll No</th>\n",
              "      <th>Gender</th>\n",
              "      <th>Section</th>\n",
              "      <th>SSC Percentage</th>\n",
              "      <th>inter_Diploma_percentage</th>\n",
              "      <th>B.Tech_percentage</th>\n",
              "      <th>Backlogs</th>\n",
              "      <th>registered_for_ Placement_Training</th>\n",
              "      <th>placement status</th>\n",
              "    </tr>\n",
              "  </thead>\n",
              "  <tbody>\n",
              "    <tr>\n",
              "      <th>0</th>\n",
              "      <td>1</td>\n",
              "      <td>M</td>\n",
              "      <td>A</td>\n",
              "      <td>87.3</td>\n",
              "      <td>65.30</td>\n",
              "      <td>40.00</td>\n",
              "      <td>18</td>\n",
              "      <td>NO</td>\n",
              "      <td>Not placed</td>\n",
              "    </tr>\n",
              "    <tr>\n",
              "      <th>1</th>\n",
              "      <td>2</td>\n",
              "      <td>F</td>\n",
              "      <td>A</td>\n",
              "      <td>89.0</td>\n",
              "      <td>92.40</td>\n",
              "      <td>71.45</td>\n",
              "      <td>0</td>\n",
              "      <td>yes</td>\n",
              "      <td>Placed</td>\n",
              "    </tr>\n",
              "    <tr>\n",
              "      <th>2</th>\n",
              "      <td>3</td>\n",
              "      <td>F</td>\n",
              "      <td>A</td>\n",
              "      <td>67.0</td>\n",
              "      <td>68.00</td>\n",
              "      <td>45.26</td>\n",
              "      <td>13</td>\n",
              "      <td>yes</td>\n",
              "      <td>Not placed</td>\n",
              "    </tr>\n",
              "    <tr>\n",
              "      <th>3</th>\n",
              "      <td>4</td>\n",
              "      <td>M</td>\n",
              "      <td>A</td>\n",
              "      <td>71.0</td>\n",
              "      <td>70.40</td>\n",
              "      <td>36.47</td>\n",
              "      <td>17</td>\n",
              "      <td>yes</td>\n",
              "      <td>Not placed</td>\n",
              "    </tr>\n",
              "    <tr>\n",
              "      <th>4</th>\n",
              "      <td>5</td>\n",
              "      <td>M</td>\n",
              "      <td>A</td>\n",
              "      <td>NaN</td>\n",
              "      <td>65.50</td>\n",
              "      <td>42.52</td>\n",
              "      <td>17</td>\n",
              "      <td>yes</td>\n",
              "      <td>Not placed</td>\n",
              "    </tr>\n",
              "    <tr>\n",
              "      <th>...</th>\n",
              "      <td>...</td>\n",
              "      <td>...</td>\n",
              "      <td>...</td>\n",
              "      <td>...</td>\n",
              "      <td>...</td>\n",
              "      <td>...</td>\n",
              "      <td>...</td>\n",
              "      <td>...</td>\n",
              "      <td>...</td>\n",
              "    </tr>\n",
              "    <tr>\n",
              "      <th>112</th>\n",
              "      <td>113</td>\n",
              "      <td>M</td>\n",
              "      <td>B</td>\n",
              "      <td>81.1</td>\n",
              "      <td>78.60</td>\n",
              "      <td>35.84</td>\n",
              "      <td>16</td>\n",
              "      <td>NO</td>\n",
              "      <td>Not placed</td>\n",
              "    </tr>\n",
              "    <tr>\n",
              "      <th>113</th>\n",
              "      <td>114</td>\n",
              "      <td>M</td>\n",
              "      <td>B</td>\n",
              "      <td>81.3</td>\n",
              "      <td>85.12</td>\n",
              "      <td>68.50</td>\n",
              "      <td>0</td>\n",
              "      <td>NO</td>\n",
              "      <td>Not placed</td>\n",
              "    </tr>\n",
              "    <tr>\n",
              "      <th>114</th>\n",
              "      <td>115</td>\n",
              "      <td>M</td>\n",
              "      <td>B</td>\n",
              "      <td>83.5</td>\n",
              "      <td>89.90</td>\n",
              "      <td>76.30</td>\n",
              "      <td>0</td>\n",
              "      <td>NO</td>\n",
              "      <td>Not placed</td>\n",
              "    </tr>\n",
              "    <tr>\n",
              "      <th>115</th>\n",
              "      <td>116</td>\n",
              "      <td>M</td>\n",
              "      <td>B</td>\n",
              "      <td>85.5</td>\n",
              "      <td>90.63</td>\n",
              "      <td>74.50</td>\n",
              "      <td>0</td>\n",
              "      <td>NO</td>\n",
              "      <td>Not placed</td>\n",
              "    </tr>\n",
              "    <tr>\n",
              "      <th>116</th>\n",
              "      <td>117</td>\n",
              "      <td>M</td>\n",
              "      <td>B</td>\n",
              "      <td>80.0</td>\n",
              "      <td>83.33</td>\n",
              "      <td>65.53</td>\n",
              "      <td>0</td>\n",
              "      <td>NO</td>\n",
              "      <td>Not placed</td>\n",
              "    </tr>\n",
              "  </tbody>\n",
              "</table>\n",
              "<p>117 rows × 9 columns</p>\n",
              "</div>"
            ],
            "text/plain": [
              "     Roll No Gender  ... registered_for_ Placement_Training  placement status\n",
              "0          1      M  ...                                 NO        Not placed\n",
              "1          2      F  ...                                yes            Placed\n",
              "2          3      F  ...                                yes        Not placed\n",
              "3          4      M  ...                                yes        Not placed\n",
              "4          5      M  ...                                yes        Not placed\n",
              "..       ...    ...  ...                                ...               ...\n",
              "112      113      M  ...                                 NO        Not placed\n",
              "113      114      M  ...                                 NO        Not placed\n",
              "114      115      M  ...                                 NO        Not placed\n",
              "115      116      M  ...                                 NO        Not placed\n",
              "116      117      M  ...                                 NO        Not placed\n",
              "\n",
              "[117 rows x 9 columns]"
            ]
          },
          "metadata": {
            "tags": []
          },
          "execution_count": 43
        }
      ]
    },
    {
      "cell_type": "markdown",
      "metadata": {
        "id": "nO0HDmjbX8dS"
      },
      "source": [
        "###Draw a line graph between SSC and intermediate/diploma percentage. Does it make sense? Explain when to use line graphs?"
      ]
    },
    {
      "cell_type": "code",
      "metadata": {
        "id": "y7zsMlnyE0sP",
        "outputId": "7c5084f7-7efd-43e6-e9f8-53a4ecfc0245",
        "colab": {
          "base_uri": "https://localhost:8080/",
          "height": 236
        }
      },
      "source": [
        "x=df[\"SSC Percentage\"]\n",
        "y=df[\"inter_Diploma_percentage\"]\n",
        "plt.plot(x,y)"
      ],
      "execution_count": 44,
      "outputs": [
        {
          "output_type": "execute_result",
          "data": {
            "text/plain": [
              "[<matplotlib.lines.Line2D at 0x7f00155aba20>]"
            ]
          },
          "metadata": {
            "tags": []
          },
          "execution_count": 44
        },
        {
          "output_type": "display_data",
          "data": {
            "image/png": "[encoded data removed]",
            "text/plain": [
              "<Figure size 432x288 with 1 Axes>"
            ]
          },
          "metadata": {
            "tags": [],
            "needs_background": "light"
          }
        }
      ]
    },
    {
      "cell_type": "markdown",
      "metadata": {
        "id": "CQtYHk1rGTqj"
      },
      "source": [
        "Line graphs are used to track changes over short and long periods of time. When smaller changes exist, line graphs are better to use."
      ]
    },
    {
      "cell_type": "markdown",
      "metadata": {
        "id": "ylIwVbq7cvBy"
      },
      "source": [
        "##ii)Scatter Plots"
      ]
    },
    {
      "cell_type": "markdown",
      "metadata": {
        "id": "PrFjaX8Ic91U"
      },
      "source": [
        "###Draw a scatter plot between SSC and inter/diploma percentage. Do you find any correlation by just visual inspection? If yes, then what kind of correlation you can see? (+ve, -ve or No)"
      ]
    },
    {
      "cell_type": "code",
      "metadata": {
        "id": "HumozpQuGgyS",
        "outputId": "13a2c89e-d5a3-4295-c514-b7bccb44b603",
        "colab": {
          "base_uri": "https://localhost:8080/",
          "height": 251
        }
      },
      "source": [
        "x=df[\"SSC Percentage\"]\n",
        "y=df[\"inter_Diploma_percentage\"]\n",
        "plt.scatter(x,y)\n",
        "plt.xlabel(\"SSC scores\")\n",
        "plt.ylabel(\"inter/diploma scores\")\n",
        "plt.title(\"Scatter plot between SSC and inter/diploma scores\")"
      ],
      "execution_count": 46,
      "outputs": [
        {
          "output_type": "execute_result",
          "data": {
            "text/plain": [
              "Text(0.5, 1.0, 'Scatter plot between SSC and inter/diploma scores')"
            ]
          },
          "metadata": {
            "tags": []
          },
          "execution_count": 46
        },
        {
          "output_type": "display_data",
          "data": {
            "image/png": "[encoded data removed]",
            "text/plain": [
              "<Figure size 432x288 with 1 Axes>"
            ]
          },
          "metadata": {
            "tags": [],
            "needs_background": "light"
          }
        }
      ]
    },
    {
      "cell_type": "markdown",
      "metadata": {
        "id": "tK7J95pzeUo9"
      },
      "source": [
        "These are positively correlated."
      ]
    },
    {
      "cell_type": "markdown",
      "metadata": {
        "id": "nlVV8zsfjvEA"
      },
      "source": [
        "##iii)Histograms"
      ]
    },
    {
      "cell_type": "markdown",
      "metadata": {
        "id": "zuY-gRLSg5qT"
      },
      "source": [
        "###Draw a histogram for B.Tech percentage. How many people have scores between 60-80% in B.tech. Tell your approximate answer by visual inspection?"
      ]
    },
    {
      "cell_type": "code",
      "metadata": {
        "id": "lSA3tguPHPwl",
        "outputId": "d3472a6d-6e93-4560-b41c-ac64fee893ff",
        "colab": {
          "base_uri": "https://localhost:8080/",
          "height": 275
        }
      },
      "source": [
        "bins=np.linspace(0,100,11)\n",
        "print(bins)\n",
        "x=df[\"B.Tech_percentage\"]\n",
        "plt.hist(x,bins,width=7)\n",
        "plt.xlabel(\"B.Tech Scores\")\n",
        "plt.title(\"Histogram for B.Tech Percentage\")"
      ],
      "execution_count": 47,
      "outputs": [
        {
          "output_type": "stream",
          "text": [
            "[  0.  10.  20.  30.  40.  50.  60.  70.  80.  90. 100.]\n"
          ],
          "name": "stdout"
        },
        {
          "output_type": "execute_result",
          "data": {
            "text/plain": [
              "Text(0.5, 1.0, 'Histogram for B.Tech Percentage')"
            ]
          },
          "metadata": {
            "tags": []
          },
          "execution_count": 47
        },
        {
          "output_type": "display_data",
          "data": {
            "image/png": "[encoded data removed]",
            "text/plain": [
              "<Figure size 432x288 with 1 Axes>"
            ]
          },
          "metadata": {
            "tags": [],
            "needs_background": "light"
          }
        }
      ]
    },
    {
      "cell_type": "markdown",
      "metadata": {
        "id": "YqsdjJhHqYF3"
      },
      "source": [
        "Approximately 65 members have 60-80% in B.Tech."
      ]
    },
    {
      "cell_type": "markdown",
      "metadata": {
        "id": "6jqM0JUlj9QP"
      },
      "source": [
        "##iv)Subplots"
      ]
    },
    {
      "cell_type": "markdown",
      "metadata": {
        "id": "bI78M6NykQM3"
      },
      "source": [
        "###Draw a scatter plot between ·         intermediate and SSC ·         Intermediate and B.Tech in the same graph. What's your observation?"
      ]
    },
    {
      "cell_type": "code",
      "metadata": {
        "id": "Se9Hso9OHszJ",
        "outputId": "3574f2c9-751c-4f12-933a-00ca113c433d",
        "colab": {
          "base_uri": "https://localhost:8080/",
          "height": 236
        }
      },
      "source": [
        "fig,ax=plt.subplots()\n",
        "x=df[\"inter_Diploma_percentage\"]\n",
        "y=df[\"SSC Percentage\"]\n",
        "ax.scatter(x,y,label=\"inter-ssc\")\n",
        "x1=df[\"inter_Diploma_percentage\"]\n",
        "y1=df[\"B.Tech_percentage\"]\n",
        "ax.scatter(x1,y1,label=\"inter-B.Tech\")\n",
        "ax.legend(loc=2)"
      ],
      "execution_count": 48,
      "outputs": [
        {
          "output_type": "execute_result",
          "data": {
            "text/plain": [
              "<matplotlib.legend.Legend at 0x7f0015411ac8>"
            ]
          },
          "metadata": {
            "tags": []
          },
          "execution_count": 48
        },
        {
          "output_type": "display_data",
          "data": {
            "image/png": "[encoded data removed]",
            "text/plain": [
              "<Figure size 432x288 with 1 Axes>"
            ]
          },
          "metadata": {
            "tags": [],
            "needs_background": "light"
          }
        }
      ]
    },
    {
      "cell_type": "markdown",
      "metadata": {
        "id": "BGkuxjMkqm2z"
      },
      "source": [
        "People who tends to get good marks in inter also got good percentage in SSC. But there marks have been reduced in B.Tech as compared to SSC."
      ]
    },
    {
      "cell_type": "markdown",
      "metadata": {
        "id": "6X96FJyroyTU"
      },
      "source": [
        "##v)Joint plot"
      ]
    },
    {
      "cell_type": "markdown",
      "metadata": {
        "id": "gbbWppuBpDnw"
      },
      "source": [
        "###Draw a jointplot between intermediate and Backlogs in B.tech. What's your  observation."
      ]
    },
    {
      "cell_type": "code",
      "metadata": {
        "id": "Pj9rVGwXqd8L",
        "outputId": "b1b91e22-a224-4dde-ee79-f251188c14ee",
        "colab": {
          "base_uri": "https://localhost:8080/",
          "height": 327
        }
      },
      "source": [
        " sns.jointplot(x=\"inter_Diploma_percentage\",y=\"Backlogs\",data=df)"
      ],
      "execution_count": 49,
      "outputs": [
        {
          "output_type": "execute_result",
          "data": {
            "text/plain": [
              "<seaborn.axisgrid.JointGrid at 0x7f00155abe48>"
            ]
          },
          "metadata": {
            "tags": []
          },
          "execution_count": 49
        },
        {
          "output_type": "display_data",
          "data": {
            "image/png": "[encoded data removed]",
            "text/plain": [
              "<Figure size 432x432 with 3 Axes>"
            ]
          },
          "metadata": {
            "tags": [],
            "needs_background": "light"
          }
        }
      ]
    },
    {
      "cell_type": "markdown",
      "metadata": {
        "id": "Xvzqw-sDtzxB"
      },
      "source": [
        "1)There are more people with zero backlogs.\n",
        "2)People who got good percentage in intermediate have less backlogs.\n",
        "3)Majority of people got more than 75% in intermediate."
      ]
    },
    {
      "cell_type": "markdown",
      "metadata": {
        "id": "RpK6ZAgntPny"
      },
      "source": [
        "##vi)Heatmaps"
      ]
    },
    {
      "cell_type": "markdown",
      "metadata": {
        "id": "LNDEAc_0tWcj"
      },
      "source": [
        "###Draw a heat map between SSC, Intermediate and B.Tech percentage and find the correlation between them."
      ]
    },
    {
      "cell_type": "code",
      "metadata": {
        "id": "F1btIc0qtffm",
        "outputId": "c1529d4d-ecdf-42f9-96d7-017517f69bb1",
        "colab": {
          "base_uri": "https://localhost:8080/",
          "height": 456
        }
      },
      "source": [
        "df_sea=df[[\"inter_Diploma_percentage\",\"SSC Percentage\",\"B.Tech_percentage\"]]\n",
        "df_sea"
      ],
      "execution_count": 50,
      "outputs": [
        {
          "output_type": "execute_result",
          "data": {
            "text/html": [
              "<div>\n",
              "<style scoped>\n",
              "    .dataframe tbody tr th:only-of-type {\n",
              "        vertical-align: middle;\n",
              "    }\n",
              "\n",
              "    .dataframe tbody tr th {\n",
              "        vertical-align: top;\n",
              "    }\n",
              "\n",
              "    .dataframe thead th {\n",
              "        text-align: right;\n",
              "    }\n",
              "</style>\n",
              "<table border=\"1\" class=\"dataframe\">\n",
              "  <thead>\n",
              "    <tr style=\"text-align: right;\">\n",
              "      <th></th>\n",
              "      <th>inter_Diploma_percentage</th>\n",
              "      <th>SSC Percentage</th>\n",
              "      <th>B.Tech_percentage</th>\n",
              "    </tr>\n",
              "  </thead>\n",
              "  <tbody>\n",
              "    <tr>\n",
              "      <th>0</th>\n",
              "      <td>65.30</td>\n",
              "      <td>87.3</td>\n",
              "      <td>40.00</td>\n",
              "    </tr>\n",
              "    <tr>\n",
              "      <th>1</th>\n",
              "      <td>92.40</td>\n",
              "      <td>89.0</td>\n",
              "      <td>71.45</td>\n",
              "    </tr>\n",
              "    <tr>\n",
              "      <th>2</th>\n",
              "      <td>68.00</td>\n",
              "      <td>67.0</td>\n",
              "      <td>45.26</td>\n",
              "    </tr>\n",
              "    <tr>\n",
              "      <th>3</th>\n",
              "      <td>70.40</td>\n",
              "      <td>71.0</td>\n",
              "      <td>36.47</td>\n",
              "    </tr>\n",
              "    <tr>\n",
              "      <th>4</th>\n",
              "      <td>65.50</td>\n",
              "      <td>NaN</td>\n",
              "      <td>42.52</td>\n",
              "    </tr>\n",
              "    <tr>\n",
              "      <th>...</th>\n",
              "      <td>...</td>\n",
              "      <td>...</td>\n",
              "      <td>...</td>\n",
              "    </tr>\n",
              "    <tr>\n",
              "      <th>112</th>\n",
              "      <td>78.60</td>\n",
              "      <td>81.1</td>\n",
              "      <td>35.84</td>\n",
              "    </tr>\n",
              "    <tr>\n",
              "      <th>113</th>\n",
              "      <td>85.12</td>\n",
              "      <td>81.3</td>\n",
              "      <td>68.50</td>\n",
              "    </tr>\n",
              "    <tr>\n",
              "      <th>114</th>\n",
              "      <td>89.90</td>\n",
              "      <td>83.5</td>\n",
              "      <td>76.30</td>\n",
              "    </tr>\n",
              "    <tr>\n",
              "      <th>115</th>\n",
              "      <td>90.63</td>\n",
              "      <td>85.5</td>\n",
              "      <td>74.50</td>\n",
              "    </tr>\n",
              "    <tr>\n",
              "      <th>116</th>\n",
              "      <td>83.33</td>\n",
              "      <td>80.0</td>\n",
              "      <td>65.53</td>\n",
              "    </tr>\n",
              "  </tbody>\n",
              "</table>\n",
              "<p>117 rows × 3 columns</p>\n",
              "</div>"
            ],
            "text/plain": [
              "     inter_Diploma_percentage  SSC Percentage  B.Tech_percentage\n",
              "0                       65.30            87.3              40.00\n",
              "1                       92.40            89.0              71.45\n",
              "2                       68.00            67.0              45.26\n",
              "3                       70.40            71.0              36.47\n",
              "4                       65.50             NaN              42.52\n",
              "..                        ...             ...                ...\n",
              "112                     78.60            81.1              35.84\n",
              "113                     85.12            81.3              68.50\n",
              "114                     89.90            83.5              76.30\n",
              "115                     90.63            85.5              74.50\n",
              "116                     83.33            80.0              65.53\n",
              "\n",
              "[117 rows x 3 columns]"
            ]
          },
          "metadata": {
            "tags": []
          },
          "execution_count": 50
        }
      ]
    },
    {
      "cell_type": "code",
      "metadata": {
        "id": "hcLmUvfJqt9W",
        "outputId": "65c641d3-9ba2-4c8e-ffac-02004a78b01e",
        "colab": {
          "base_uri": "https://localhost:8080/",
          "height": 269
        }
      },
      "source": [
        " sns.heatmap(df_sea.corr(),annot=True)"
      ],
      "execution_count": 41,
      "outputs": [
        {
          "output_type": "execute_result",
          "data": {
            "text/plain": [
              "<matplotlib.axes._subplots.AxesSubplot at 0x7f0015671898>"
            ]
          },
          "metadata": {
            "tags": []
          },
          "execution_count": 41
        },
        {
          "output_type": "display_data",
          "data": {
            "image/png": "[encoded data removed]",
            "text/plain": [
              "<Figure size 432x288 with 2 Axes>"
            ]
          },
          "metadata": {
            "tags": [],
            "needs_background": "light"
          }
        }
      ]
    }
  ]
}